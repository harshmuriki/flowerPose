{
 "cells": [
  {
   "cell_type": "code",
   "execution_count": 1,
   "metadata": {},
   "outputs": [],
   "source": [
    "import cv2\n",
    "import open3d as o3d\n",
    "import numpy as np\n",
    "import colorsys\n",
    "# import pyransac3d as pyrsc\n",
    "import copy"
   ]
  },
  {
   "cell_type": "code",
   "execution_count": 2,
   "metadata": {},
   "outputs": [],
   "source": [
    "def visualizer(cloud):\n",
    "\n",
    "    if type(cloud) == o3d.cpu.pybind.geometry.TriangleMesh:\n",
    "        vertices = np.asarray(cloud.vertices)\n",
    "        center_of_mass = np.mean(vertices, axis=0)\n",
    "    else:\n",
    "        # point cloud\n",
    "        center_of_mass = np.mean(np.asarray(cloud.points), axis=0)\n",
    "    \n",
    "    # print(\"com\", center_of_mass)\n",
    "    o3d.visualization.draw_geometries([cloud],\n",
    "                                  zoom=0.5,\n",
    "                                  front=[1, 0, 0],\n",
    "                                  lookat=center_of_mass,\n",
    "                                  up=[0, 0, 1])\n"
   ]
  },
  {
   "cell_type": "code",
   "execution_count": 3,
   "metadata": {},
   "outputs": [],
   "source": [
    "pcd = o3d.io.read_point_cloud(\"3dmodels/Black_Sphere.ply\")\n",
    "\n",
    "visualizer(pcd)"
   ]
  },
  {
   "cell_type": "code",
   "execution_count": 15,
   "metadata": {},
   "outputs": [],
   "source": [
    "threshold = 0.4 # 0 -> 1\n",
    "\n",
    "x, y, z = np.asarray(pcd.points)[:, :3].T\n",
    "\n",
    "std = np.std((x, y, z), axis=1) * threshold\n",
    "\n",
    "hist_x, bins_x = np.histogram(x, bins=50)\n",
    "hist_y, bins_y = np.histogram(y, bins=50)\n",
    "\n",
    "max_freq_bin_x = bins_x[np.argmax(hist_x)]\n",
    "max_freq_bin_y = bins_y[np.argmax(hist_y)]\n",
    "\n",
    "min_bound = (max_freq_bin_x, max_freq_bin_y, 0.6) - std \n",
    "max_bound = (max_freq_bin_x, max_freq_bin_y, 0.7) + (std / 1.9)\n",
    "\n",
    "bounding_box = o3d.geometry.AxisAlignedBoundingBox(min_bound=min_bound,\n",
    "                                                    max_bound=max_bound)\n",
    "axis_bounded_cloud = pcd.crop(bounding_box)\n",
    "\n",
    "visualizer(axis_bounded_cloud)"
   ]
  },
  {
   "cell_type": "code",
   "execution_count": 232,
   "metadata": {},
   "outputs": [],
   "source": [
    "def get_min_iter():\n",
    "    s = 6  #no. of samples used every time to create the shape\n",
    "    p = 0.99 #99%\n",
    "    e = 0.5 # 50%\n",
    "    k = np.log(1-p)/(np.log(1 - np.power((1-e), s)))\n",
    "    print(k)\n",
    "    return k\n",
    "    # k => number of iterations\n",
    "\n",
    "# get_min_iter()"
   ]
  },
  {
   "cell_type": "code",
   "execution_count": null,
   "metadata": {},
   "outputs": [],
   "source": [
    "# import matplotlib.pyplot as plt\n",
    "# import numpy as np\n",
    "\n",
    "# # Generate random data for the histogram\n",
    "# fig, axes = plt.subplots(nrows=1, ncols=3, figsize=(18, 4))\n",
    "\n",
    "# axes[0].hist(x, bins=50, color='Yellow', edgecolor='black')\n",
    "# axes[0].set_title('Histogram 1')\n",
    " \n",
    "# axes[1].hist(y, bins=50, color='Pink', edgecolor='black')\n",
    "# axes[1].set_title('Histogram 2')\n",
    "\n",
    "# axes[2].hist(z, bins=50, color='Green', edgecolor='black')\n",
    "# axes[2].set_title('Histogram 3')\n",
    "\n",
    "# # Adding labels and title\n",
    "# for ax in axes:\n",
    "#     ax.set_xlabel('Values')\n",
    "#     ax.set_ylabel('Frequency')\n",
    "#     ax.xaxis.set_major_locator(plt.MaxNLocator(20))  # Adjust the number of ticks here\n",
    "#     plt.setp(ax.get_xticklabels(), rotation=45)\n",
    "\n",
    "# plt.tight_layout()\n",
    "# plt.show()\n"
   ]
  },
  {
   "cell_type": "code",
   "execution_count": 188,
   "metadata": {},
   "outputs": [],
   "source": [
    "# import matplotlib.pyplot as plt\n",
    "# import numpy as np\n",
    "\n",
    "# plt.hist2d(x, y, bins=30)\n",
    "\n",
    "# plt.xlabel('X values')\n",
    "# plt.ylabel('Y values')\n",
    "# plt.title('2D Histogram (Hexbin Plot)')\n",
    "# plt.colorbar()\n",
    "# plt.show()\n"
   ]
  },
  {
   "cell_type": "code",
   "execution_count": 16,
   "metadata": {},
   "outputs": [
    {
     "name": "stdout",
     "output_type": "stream",
     "text": [
      "[Open3D WARNING] GLFW Error: WGL: Failed to make context current: The requested transformation operation is not supported. \n"
     ]
    }
   ],
   "source": [
    "point = pyrsc.Point()  #Using RANSAC\n",
    "# s = 1\n",
    "\n",
    "center, best_inliers_point = point.fit(np.asarray(axis_bounded_cloud.points), thresh=0.7, maxIteration=10)\n",
    "\n",
    "inlier_cloud_point = axis_bounded_cloud.select_by_index(best_inliers_point)\n",
    "outlier_cloud_point = axis_bounded_cloud.select_by_index(best_inliers_point, invert=True)\n",
    "\n",
    "# outlier_cloud_point.paint_uniform_color([1, 0, 0])\n",
    "# inlier_cloud_point.paint_uniform_color([0, 1, 0])\n",
    "\n",
    "o3d.visualization.draw_geometries([inlier_cloud_point],\n",
    "                                    zoom=0.5,\n",
    "                                    front=[1, 0, 0],\n",
    "                                    lookat=[0, 0, 0],\n",
    "                                    up=[0, 0, 1])"
   ]
  },
  {
   "cell_type": "code",
   "execution_count": 17,
   "metadata": {},
   "outputs": [
    {
     "name": "stdout",
     "output_type": "stream",
     "text": [
      "[Open3D WARNING] The number of points is 0 when creating axis-aligned bounding box.\n",
      "[Open3D WARNING] GLFW Error: WGL: Failed to make context current: The handle is invalid. \n"
     ]
    }
   ],
   "source": [
    "sphere = pyrsc.Sphere()\n",
    "# s = 4\n",
    "center, radius, best_inliers_sphere = sphere.fit(np.asarray(inlier_cloud_point.points), thresh=0.2, maxIteration=75)\n",
    "\n",
    "inlier_cloud_sphere = inlier_cloud_point.select_by_index(best_inliers_sphere)\n",
    "outlier_cloud_sphere = inlier_cloud_point.select_by_index(best_inliers_sphere, invert=True)\n",
    "\n",
    "# outlier_cloud_sphere.paint_uniform_color([1, 0, 0])\n",
    "# inlier_cloud_sphere.paint_uniform_color([0, 1, 0])\n",
    "\n",
    "o3d.visualization.draw_geometries([outlier_cloud_sphere, inlier_cloud_sphere],\n",
    "                                    zoom=0.5,\n",
    "                                    front=[1, 0, 0],\n",
    "                                    lookat=[0, 0, 0],\n",
    "                                    up=[0, 0, 1])"
   ]
  },
  {
   "cell_type": "code",
   "execution_count": 22,
   "metadata": {},
   "outputs": [],
   "source": [
    "# plane??\n",
    "\n",
    "sphere = pyrsc.Plane()\n",
    "\n",
    "# s = 3\n",
    "equation, best_inliers_plane = sphere.fit(np.asarray(inlier_cloud_sphere.points), thresh=0.07, maxIteration=40)\n",
    "\n",
    "inlier_cloud_plane = inlier_cloud_sphere.select_by_index(best_inliers_plane)\n",
    "outlier_cloud_plane = inlier_cloud_sphere.select_by_index(best_inliers_plane, invert=True)\n",
    "\n",
    "# outlier_cloud_plane.paint_uniform_color([1, 0, 0])\n",
    "# inlier_cloud_plane.paint_uniform_color([0, 1, 0])\n",
    "\n",
    "o3d.visualization.draw_geometries([outlier_cloud_plane],\n",
    "                                    zoom=0.5,\n",
    "                                    front=[1, 0, 0],\n",
    "                                    lookat=[0, 0, 0],\n",
    "                                    up=[0, 0, 1])"
   ]
  },
  {
   "cell_type": "code",
   "execution_count": 47,
   "metadata": {},
   "outputs": [
    {
     "data": {
      "text/plain": [
       "array([    0,     1,     2, ..., 36539, 36540, 36541], dtype=int64)"
      ]
     },
     "execution_count": 47,
     "metadata": {},
     "output_type": "execute_result"
    }
   ],
   "source": [
    "best_inliers_plane"
   ]
  },
  {
   "cell_type": "code",
   "execution_count": 23,
   "metadata": {},
   "outputs": [],
   "source": [
    "visualizer(inlier_cloud_plane)"
   ]
  },
  {
   "cell_type": "code",
   "execution_count": 24,
   "metadata": {},
   "outputs": [],
   "source": [
    "pcd = inlier_cloud_plane"
   ]
  },
  {
   "cell_type": "code",
   "execution_count": 90,
   "metadata": {},
   "outputs": [],
   "source": [
    "def convert_rgb_2_hsv(all_rgb_colors):\n",
    "    all_hsv_colors = []\n",
    "\n",
    "    for i in range(len(all_rgb_colors)):\n",
    "        temp_color = all_rgb_colors[i]\n",
    "        temp = colorsys.rgb_to_hsv(temp_color[0], temp_color[1], temp_color[2])\n",
    "        all_hsv_colors.append(temp)\n",
    "\n",
    "    all_hsv_colors = np.asarray(all_hsv_colors)\n",
    "\n",
    "    return all_hsv_colors\n",
    "\n",
    "all_rgb_colors = np.asarray(axis_bounded_cloud.colors)\n",
    "all_hsv_colors = convert_rgb_2_hsv(all_rgb_colors)\n"
   ]
  },
  {
   "cell_type": "code",
   "execution_count": 96,
   "metadata": {},
   "outputs": [],
   "source": [
    "def hsv_filter(hsv_color): #fruit\n",
    "    # hsv_color is by 0 - 1 range\n",
    "\n",
    "    # H -> 0 - 179\n",
    "    low_h = 40/360\n",
    "    high_h = 100/360\n",
    "    # strawberry -> H S V\n",
    "    # min [  0 146 190]\n",
    "    # max [179 158 214]\n",
    "\n",
    "    low_h_1 = 325/360\n",
    "    high_h_1 = 360/360\n",
    "\n",
    "    # 330 to 30 degree\n",
    "\n",
    "    # S -> 0,255\n",
    "    low_s = 0.2 #0.3\n",
    "    high_s = 1 #/100\n",
    "\n",
    "    # V -> 0,255\n",
    "    low_v = 0.2\n",
    "    high_v = 1\n",
    "\n",
    "    if ((low_h <= hsv_color[0] <= high_h)) and low_s <= hsv_color[1] <= high_s and low_v <= hsv_color[2] <= high_v:\n",
    "        return True\n",
    "    else:\n",
    "        return False\n",
    "    "
   ]
  },
  {
   "cell_type": "code",
   "execution_count": 98,
   "metadata": {},
   "outputs": [],
   "source": [
    "new_points = []\n",
    "new_colors = []\n",
    "new_colors_RGB_u = []\n",
    "fruits = []\n",
    "\n",
    "new_color_pt = []\n",
    "new_pt_indexes = []\n",
    "new_pt_points = []\n",
    "\n",
    "for index, new_color in enumerate(all_hsv_colors):\n",
    "    new_point = axis_bounded_cloud.points[index]\n",
    "    new_color_RGB = all_rgb_colors[index]\n",
    "    # fruit = fruits[index]\n",
    "    if not hsv_filter(new_color):\n",
    "        new_colors_RGB_u.append(new_color_RGB)\n",
    "        new_points.append(new_point)\n",
    "        new_colors.append(new_color)\n",
    "    else:\n",
    "        new_color_pt.append(new_color)\n",
    "        new_pt_indexes.append(index)\n",
    "        new_pt_points.append(new_point)\n",
    "\n",
    "new_colors_RGB_u = np.asarray(new_colors_RGB_u)\n",
    "new_colors = np.asarray(new_colors)\n",
    "new_points = np.asarray(new_points)\n",
    "\n",
    "filtered_point_cloud = o3d.geometry.PointCloud()\n",
    "filtered_point_cloud.points = o3d.utility.Vector3dVector(new_points)\n",
    "filtered_point_cloud.colors = o3d.utility.Vector3dVector(new_colors_RGB_u)\n",
    "\n",
    "\n",
    "# new_pcd = pcd.select_by_index(new_points, invert=True)\n",
    "# # new_pcd.points = o3d.utility.Vector3dVector(new_points)\n",
    "# filtered_point_cloud.colors = o3d.utility.Vector3dVector(new_color_pt)\n",
    "visualizer(filtered_point_cloud)"
   ]
  },
  {
   "cell_type": "code",
   "execution_count": 67,
   "metadata": {},
   "outputs": [],
   "source": [
    "# new_pcd = pcd.select_by_index(np.asarray(new_pt_indexes), invert=False)\n",
    "new_pcd_pointcloud = o3d.geometry.PointCloud()\n",
    "new_pcd_pointcloud.points = o3d.utility.Vector3dVector(new_pt_points)\n",
    "# new_pcd.points = o3d.utility.Vector3dVector(new_points)\n",
    "# new_pcd.colors = o3d.utility.Vector3dVector(new_color_pt)\n",
    "visualizer(new_pcd_pointcloud)"
   ]
  },
  {
   "cell_type": "code",
   "execution_count": 41,
   "metadata": {},
   "outputs": [],
   "source": [
    "visualizer(pcd)"
   ]
  },
  {
   "cell_type": "code",
   "execution_count": 99,
   "metadata": {},
   "outputs": [],
   "source": [
    "cl, ind = filtered_point_cloud.remove_statistical_outlier(nb_neighbors=50,\n",
    "                                                    std_ratio=0.6)\n",
    "cl.estimate_normals()\n",
    "visualizer(cl)\n"
   ]
  },
  {
   "cell_type": "code",
   "execution_count": 75,
   "metadata": {},
   "outputs": [],
   "source": [
    "sphere = pyrsc.Sphere()\n",
    "# s = 3\n",
    "# removes the soil\n",
    "_, _,  best_inliers_plane = sphere.fit(np.asarray(cl.points), thresh=0.005, maxIteration=40)\n",
    "\n",
    "inlier_cloud_plane = cl.select_by_index(best_inliers_plane)\n",
    "outlier_cloud_plane = cl.select_by_index(best_inliers_plane, invert=True)\n",
    "\n",
    "# outlier_cloud_plane.paint_uniform_color([1, 0, 0])\n",
    "# inlier_cloud_plane.paint_uniform_color([0, 1, 0])\n",
    "\n",
    "# o3d.visualization.draw_geometries([outlier_cloud_plane, inlier_cloud_plane],\n",
    "#                                     zoom=0.5,\n",
    "#                                     front=[1, 0, 0],\n",
    "#                                     lookat=[0, 0, 0],\n",
    "#                                     up=[0, 0, 1])\n",
    "\n",
    "visualizer(outlier_cloud_plane)"
   ]
  },
  {
   "cell_type": "code",
   "execution_count": 75,
   "metadata": {},
   "outputs": [],
   "source": [
    "visualizer(cld)"
   ]
  },
  {
   "cell_type": "code",
   "execution_count": 198,
   "metadata": {},
   "outputs": [],
   "source": [
    "# cl = outlier_cloud_plane"
   ]
  },
  {
   "cell_type": "code",
   "execution_count": 199,
   "metadata": {},
   "outputs": [],
   "source": [
    "# sphere = pyrsc.Plane()\n",
    "# # s = 3\n",
    "# equation, best_inliers_plane = sphere.fit(np.asarray(cl.points), thresh=0.04, maxIteration=40)\n",
    "\n",
    "# inlier_cloud_plane = cl.select_by_index(best_inliers_plane)\n",
    "# outlier_cloud_plane = cl.select_by_index(best_inliers_plane, invert=True)\n",
    "\n",
    "# # outlier_cloud_plane.paint_uniform_color([1, 0, 0])\n",
    "# # inlier_cloud_plane.paint_uniform_color([0, 1, 0])\n",
    "\n",
    "# o3d.visualization.draw_geometries([outlier_cloud_plane],\n",
    "#                                     zoom=0.5,\n",
    "#                                     front=[1, 0, 0],\n",
    "#                                     lookat=[0, 0, 0],\n",
    "#                                     up=[0, 0, 1])"
   ]
  },
  {
   "cell_type": "code",
   "execution_count": 200,
   "metadata": {},
   "outputs": [],
   "source": [
    "# filtered_point_cloud, _ = cl.remove_statistical_outlier(nb_neighbors=5, std_ratio=0.5)\n",
    "\n",
    "# visualizer(filtered_point_cloud)"
   ]
  },
  {
   "cell_type": "code",
   "execution_count": 76,
   "metadata": {},
   "outputs": [],
   "source": [
    "filtered_point_cloud_r, _ = cld.remove_radius_outlier(nb_points=10, radius=0.01)\n",
    "\n",
    "visualizer(filtered_point_cloud_r)\n"
   ]
  },
  {
   "cell_type": "code",
   "execution_count": 202,
   "metadata": {},
   "outputs": [],
   "source": [
    "def max_red(points):\n",
    "    # Stricter filter to get just strawberry\n",
    "    low_h = 0/360\n",
    "    high_h = 25/360\n",
    "\n",
    "    low_h_1 = 325/360\n",
    "    high_h_1 = 360/360\n",
    "\n",
    "    low_s = 0.5\n",
    "    high_s = 100/100\n",
    "\n",
    "    low_v = 0.5\n",
    "    high_v = 1\n",
    "\n",
    "    H_mask = ((low_h <= points[:, 0]) & (points[:, 0] <= high_h)) | ((low_h_1 <= points[:, 0]) & (points[:, 0] <= high_h_1))\n",
    "    S_mask = (low_s <= points[:, 1]) & (points[:, 1] <= high_s)\n",
    "    V_mask = (low_v <= points[:, 2]) & (points[:, 2] <= high_v)\n",
    "\n",
    "    final_mask = H_mask & S_mask & V_mask\n",
    "\n",
    "    return np.sum(final_mask)        "
   ]
  },
  {
   "cell_type": "code",
   "execution_count": 82,
   "metadata": {},
   "outputs": [
    {
     "name": "stdout",
     "output_type": "stream",
     "text": [
      "0\n",
      "1\n",
      "2\n",
      "3\n",
      "4\n",
      "5\n",
      "6\n",
      "7\n",
      "8\n",
      "9\n",
      "10\n",
      "11\n",
      "12\n",
      "13\n",
      "14\n",
      "15\n",
      "16\n",
      "17\n",
      "18\n"
     ]
    }
   ],
   "source": [
    "from sklearn.cluster import KMeans\n",
    "\n",
    "features = np.array(axis_bounded_cloud.points)\n",
    "\n",
    "kmeans = KMeans(n_clusters=19, random_state=0).fit(features)\n",
    "red_cluster_index = np.argmin(np.mean(kmeans.cluster_centers_, axis=1))\n",
    "color = [\n",
    "    [255, 0, 0],   # Red\n",
    "    [0, 255, 0],   # Green\n",
    "    [0, 0, 255],   # Blue\n",
    "    [255, 255, 0], # Yellow\n",
    "    [255, 0, 255], # Magenta\n",
    "    [0, 255, 255], # Cyan\n",
    "    [0, 128, 0],   # Green (dark)\n",
    "    [0, 0, 128],   # Navy\n",
    "    [128, 128, 0],  # Olive\n",
    "    [128, 0, 128],  # Purple\n",
    "    [0, 128, 128],  # Teal\n",
    "    [128, 128, 128],# Gray\n",
    "    [255, 165, 0],  # Orange\n",
    "    [255, 192, 203],# Pink\n",
    "    [0, 0, 0],      # Black\n",
    "    [128, 0, 0],    # Maroon (dark)\n",
    "    [0, 128, 0],    # Green (medium)\n",
    "    [0, 0, 128],\n",
    "    [128, 128, 128]\n",
    "]\n",
    "\n",
    "outlier_cloud_sph = []\n",
    "final_segments  = []\n",
    "\n",
    "avg = []\n",
    "\n",
    "for i in range(len(kmeans.cluster_centers_)):\n",
    "    temp_p = np.where(kmeans.labels_ == i)\n",
    "    temp_sphere = axis_bounded_cloud.select_by_index(temp_p[0])\n",
    "    temp_points = np.asarray(axis_bounded_cloud.colors)[kmeans.labels_ == i]\n",
    "    # temp_avg = max_red(temp_points)\n",
    "    # temp_avg = np.average(temp_points, axis=0)\n",
    "    # avg.append(temp_avg)\n",
    "    deep_copy_seg = copy.deepcopy(temp_sphere)\n",
    "    final_segments.append(deep_copy_seg)\n",
    "    outlier_cloud_sph.append(temp_sphere)\n",
    "    # temp_sphere.paint_uniform_color(color[i])\n",
    "    print(i)\n",
    "    visualizer(temp_sphere)\n",
    "\n",
    "geometries_to_visualize = [outlier_cloud_sph[i] for i in range(len(kmeans.cluster_centers_))]  # Adjust the range as needed\n",
    "\n",
    "o3d.visualization.draw_geometries(geometries_to_visualize,\n",
    "                                    zoom=0.5,\n",
    "                                    front=[1, 0, 0],\n",
    "                                    lookat=[0, 0, 0],\n",
    "                                    up=[0, 0, 1])\n",
    "\n"
   ]
  },
  {
   "cell_type": "code",
   "execution_count": 1,
   "metadata": {},
   "outputs": [
    {
     "ename": "NameError",
     "evalue": "name 'visualizer' is not defined",
     "output_type": "error",
     "traceback": [
      "\u001b[1;31m---------------------------------------------------------------------------\u001b[0m",
      "\u001b[1;31mNameError\u001b[0m                                 Traceback (most recent call last)",
      "Cell \u001b[1;32mIn[1], line 1\u001b[0m\n\u001b[1;32m----> 1\u001b[0m \u001b[43mvisualizer\u001b[49m(geometries_to_visualize[\u001b[38;5;241m1\u001b[39m])\n\u001b[0;32m      2\u001b[0m cld2 \u001b[38;5;241m=\u001b[39m geometries_to_visualize[\u001b[38;5;241m1\u001b[39m]\n",
      "\u001b[1;31mNameError\u001b[0m: name 'visualizer' is not defined"
     ]
    }
   ],
   "source": [
    "visualizer(geometries_to_visualize[1])\n",
    "cld2 = geometries_to_visualize[1]"
   ]
  },
  {
   "cell_type": "code",
   "execution_count": 76,
   "metadata": {},
   "outputs": [],
   "source": [
    "def fit_sphere(cld):\n",
    "\n",
    "    sphere = pyrsc.Sphere()\n",
    "    # s = 3\n",
    "    # removes the soil\n",
    "    _, _,  best_inliers_plane = sphere.fit(np.asarray(cld.points), thresh=0.090, maxIteration=40)\n",
    "\n",
    "    inlier_cloud_plane = cld.select_by_index(best_inliers_plane)\n",
    "    outlier_cloud_plane = cld.select_by_index(best_inliers_plane, invert=True)\n",
    "\n",
    "    outlier_cloud_plane.paint_uniform_color([1, 0, 0])\n",
    "    inlier_cloud_plane.paint_uniform_color([0, 1, 0])\n",
    "\n",
    "    # o3d.visualization.draw_geometries([outlier_cloud_plane, inlier_cloud_plane],\n",
    "    #                                     zoom=0.5,\n",
    "    #                                     front=[1, 0, 0],\n",
    "    #                                     lookat=np.mean(np.asarray(cld.points), axis=0),\n",
    "    #                                     up=[0, 0, 1])\n",
    "\n",
    "    return len(inlier_cloud_plane.points), len(outlier_cloud_plane.points)"
   ]
  },
  {
   "cell_type": "code",
   "execution_count": 100,
   "metadata": {},
   "outputs": [
    {
     "name": "stdout",
     "output_type": "stream",
     "text": [
      "[Open3D DEBUG] Precompute neighbors.\n",
      "[Open3D DEBUG] Done Precompute neighbors.\n",
      "[Open3D DEBUG] Compute Clusters\n",
      "[Open3D DEBUG] Done Compute Clusters: 4\n"
     ]
    }
   ],
   "source": [
    "color = [\n",
    "    [255, 0, 0],   # Red\n",
    "    [0, 255, 0],   # Green\n",
    "    [0, 0, 255],   # Blue\n",
    "    [255, 255, 0], # Yellow\n",
    "    [255, 0, 255], # Magenta\n",
    "    [0, 255, 255], # Cyan\n",
    "    [0, 128, 0],   # Green (dark)\n",
    "    [0, 0, 128],   # Navy\n",
    "    [128, 128, 0],  # Olive\n",
    "    [128, 0, 128],  # Purple\n",
    "    [0, 128, 128],  # Teal\n",
    "    [128, 128, 128],# Gray\n",
    "    [255, 165, 0],  # Orange\n",
    "    [255, 192, 203],# Pink\n",
    "    [0, 0, 0],      # Black\n",
    "    [128, 0, 0],    # Maroon (dark)\n",
    "    [0, 128, 0],    # Green (medium)\n",
    "    [0, 128, 128],\n",
    "    [128, 128, 128]\n",
    "]\n",
    "\n",
    "with o3d.utility.VerbosityContextManager(\n",
    "        o3d.utility.VerbosityLevel.Debug) as cm:\n",
    "    labels = np.array(\n",
    "        cl.cluster_dbscan(eps=0.02, min_points=30, print_progress=True))\n",
    "\n",
    "max_label = labels.max()\n",
    "outlier_cloud_sph_2 =[]\n",
    "l = 0\n",
    "seg_avg = []\n",
    "for i in range(-1, max_label+1):\n",
    "    indexes = np.argwhere(labels == i).flatten()\n",
    "    new_pc = o3d.geometry.PointCloud()\n",
    "    new_pc.points = o3d.utility.Vector3dVector(np.asarray(cl.points)[indexes])\n",
    "    new_pc.colors = o3d.utility.Vector3dVector(np.asarray(cl.colors)[indexes])\n",
    "    if l >= 19:\n",
    "        l = 0\n",
    "    # new_pc.paint_uniform_color(color[l])\n",
    "    l+= 1\n",
    "    # new_pc.colors = o3d.utility.Vector3dVector(np.asarray(filtered_point_cloud_r.colors)[indexes])\n",
    "    # temp_avg = np.std(np.asarray(filtered_point_cloud_r.colors)[indexes], axis=0)\n",
    "    # seg_avg.append(temp_avg)\n",
    "    outlier_cloud_sph_2.append(new_pc)\n",
    "    visualizer(new_pc)\n",
    "    # print(l)\n",
    "    \n",
    "o3d.visualization.draw_geometries(outlier_cloud_sph_2,\n",
    "                                    zoom=0.5,\n",
    "                                    front=[1, 0, 0],\n",
    "                                    lookat=[0, 0, 0],\n",
    "                                    up=[0, 0, 1])\n"
   ]
  },
  {
   "cell_type": "code",
   "execution_count": 101,
   "metadata": {},
   "outputs": [],
   "source": [
    "visualizer(outlier_cloud_sph_2[1])\n",
    "axis_bounded_cloud = outlier_cloud_sph_2[1]"
   ]
  },
  {
   "cell_type": "code",
   "execution_count": 41,
   "metadata": {},
   "outputs": [
    {
     "name": "stdout",
     "output_type": "stream",
     "text": [
      "3\n"
     ]
    }
   ],
   "source": [
    "idx = 0\n",
    "max_points = 0\n",
    "for i in range(len(outlier_cloud_sph_2)):\n",
    "    tmp_cld = outlier_cloud_sph_2[i]\n",
    "    if len(tmp_cld.points) > max_points:\n",
    "        max_points = len(tmp_cld.points)\n",
    "        idx = i\n",
    "\n",
    "print(idx)"
   ]
  },
  {
   "cell_type": "code",
   "execution_count": 43,
   "metadata": {},
   "outputs": [],
   "source": [
    "visualizer(outlier_cloud_sph_2[11])"
   ]
  },
  {
   "cell_type": "code",
   "execution_count": 44,
   "metadata": {},
   "outputs": [],
   "source": [
    "cld = outlier_cloud_sph_2[11]"
   ]
  },
  {
   "cell_type": "code",
   "execution_count": 208,
   "metadata": {},
   "outputs": [
    {
     "name": "stdout",
     "output_type": "stream",
     "text": [
      "[[ 13.76169311  18.12487989  13.03729584]\n",
      " [264.77196007   6.54677815   5.11613097]\n",
      " [ 13.91720509  10.0951218    6.64879374]\n",
      " [  4.1662796   16.66908272   9.97065576]\n",
      " [282.92999538  10.37784015   1.98517612]\n",
      " [333.18165748   8.66089264   2.87725673]\n",
      " [358.01153293  19.77781879  17.62514963]\n",
      " [194.60044911   3.87567736  18.24334462]]\n",
      "3\n"
     ]
    }
   ],
   "source": [
    "def convert_rgb_2_hsv(all_rgb_colors):\n",
    "    all_hsv_colors_segement = []\n",
    "\n",
    "    for i in range(len(all_rgb_colors)):\n",
    "        temp_color = all_rgb_colors[i]\n",
    "        temp = colorsys.rgb_to_hls(temp_color[0], temp_color[1], temp_color[2]) #bt 0 to 1\n",
    "        all_hsv_colors_segement.append([temp[0] * 360, temp[1]*100, temp[2]*100])\n",
    "\n",
    "    all_hsv_colors_segement = np.asarray(all_hsv_colors_segement)\n",
    "\n",
    "    return all_hsv_colors_segement\n",
    "\n",
    "all_hsv_colors_segement = convert_rgb_2_hsv(seg_avg)\n",
    "\n",
    "print(all_hsv_colors_segement)\n",
    "\n",
    "index = np.argmin(all_hsv_colors_segement, axis=0)[0]\n",
    "\n",
    "print(index)\n",
    "# print(outlier_cloud_sph[index])\n",
    "# print(avg)\n",
    "# print(np.argmax(avg))\n",
    "visualizer(outlier_cloud_sph_2[4])\n"
   ]
  },
  {
   "cell_type": "code",
   "execution_count": 89,
   "metadata": {},
   "outputs": [
    {
     "name": "stdout",
     "output_type": "stream",
     "text": [
      "Closest color to red: 9\n"
     ]
    }
   ],
   "source": [
    "import numpy as np\n",
    "\n",
    "def euclidean_distance(color1, color2):\n",
    "    return np.linalg.norm(color1 - color2)\n",
    "\n",
    "# HSV representation of red\n",
    "red_hsv = np.array([0, 1, 1])\n",
    "\n",
    "# Calculate the Euclidean distance between each color and red\n",
    "distances = [euclidean_distance(color, red_hsv) for color in all_hsv_colors_segement]\n",
    "\n",
    "# Find the index of the color with the smallest distance to red\n",
    "closest_index = np.argmin(distances)\n",
    "\n",
    "# Get the closest color\n",
    "closest_color = all_hsv_colors_segement[closest_index]\n",
    "\n",
    "print(\"Closest color to red:\", closest_index)\n"
   ]
  },
  {
   "cell_type": "code",
   "execution_count": 219,
   "metadata": {},
   "outputs": [],
   "source": [
    "cld = outlier_cloud_sph_2[idx]"
   ]
  },
  {
   "cell_type": "code",
   "execution_count": 220,
   "metadata": {},
   "outputs": [],
   "source": [
    "# Get the center of the strawberry\n",
    "center_strawberry = cld.get_center()\n",
    "\n",
    "center_pc = o3d.geometry.PointCloud()\n",
    "center_pc.points = o3d.utility.Vector3dVector(np.asarray([center_strawberry]))\n",
    "center_pc.paint_uniform_color([0, 0, 1])\n",
    "\n",
    "o3d.visualization.draw_geometries([cld, center_pc])"
   ]
  },
  {
   "cell_type": "code",
   "execution_count": 102,
   "metadata": {},
   "outputs": [],
   "source": [
    "# Last Outlier removal if any remain\n",
    "filtered_point_cloud2, _ = axis_bounded_cloud.remove_statistical_outlier(nb_neighbors=10, std_ratio=0.9)\n",
    "visualizer(filtered_point_cloud2)"
   ]
  },
  {
   "cell_type": "code",
   "execution_count": 105,
   "metadata": {},
   "outputs": [
    {
     "name": "stdout",
     "output_type": "stream",
     "text": [
      "[Open3D WARNING] [CreateFromPointCloudAlphaShape] invalid tetra in TetraMesh\n",
      "[Open3D WARNING] [CreateFromPointCloudAlphaShape] invalid tetra in TetraMesh\n",
      "[Open3D WARNING] [CreateFromPointCloudAlphaShape] invalid tetra in TetraMesh\n",
      "[Open3D WARNING] [CreateFromPointCloudAlphaShape] invalid tetra in TetraMesh\n",
      "[Open3D WARNING] [CreateFromPointCloudAlphaShape] invalid tetra in TetraMesh\n",
      "[Open3D WARNING] [CreateFromPointCloudAlphaShape] invalid tetra in TetraMesh\n"
     ]
    }
   ],
   "source": [
    "radii = [0.005, 0.01]\n",
    "cl.estimate_normals()\n",
    "mesh = o3d.geometry.TriangleMesh.create_from_point_cloud_alpha_shape(\n",
    "    axis_bounded_cloud, alpha=0.01)\n",
    "\n",
    "visualizer(mesh)"
   ]
  },
  {
   "cell_type": "code",
   "execution_count": 104,
   "metadata": {},
   "outputs": [],
   "source": [
    "# def color_bounding_box(box):\n",
    "#     # visualizer(mesh)\n",
    "#     vertices = np.asarray(box.get_box_points())\n",
    "\n",
    "#     # Define the edges of the oriented bounding box\n",
    "#     lines = [\n",
    "#         [0, 1], [1, 2], [2, 3], [3, 0],\n",
    "#         [4, 5], [5, 6], [6, 7], [7, 4],\n",
    "#         [0, 4], [1, 5], [2, 6], [3, 7]\n",
    "#     ]\n",
    "\n",
    "#     # Create a LineSet to represent the box\n",
    "#     line_set = o3d.geometry.LineSet(\n",
    "#         points=o3d.utility.Vector3dVector(vertices),\n",
    "#         lines=o3d.utility.Vector2iVector(lines)\n",
    "#     )\n",
    "\n",
    "#     # Set the color of the box (e.g., red)\n",
    "#     line_set.colors = o3d.utility.Vector3dVector(np.tile([1, 0, 0], (len(lines), 1)))\n",
    "#     # o3d.visualization.draw_geometries([mesh, line_set],\n",
    "#     #                                 zoom=0.5,\n",
    "#     #                                 front=[1, 0, 0],\n",
    "#     #                                 lookat=[-0.05272632, -0.02440209, 0.48188474],\n",
    "#     #                                 up=[0, 0, 1])\n",
    "\n",
    "#     return line_set"
   ]
  },
  {
   "cell_type": "code",
   "execution_count": 105,
   "metadata": {},
   "outputs": [],
   "source": [
    "# # AABB box\n",
    "# box_triangle = mesh.get_axis_aligned_bounding_box()\n",
    "# line_set_triangle = color_bounding_box(box_triangle)\n",
    "# o3d.visualization.draw_geometries([mesh, line_set_triangle, center_pc])"
   ]
  },
  {
   "cell_type": "code",
   "execution_count": 106,
   "metadata": {},
   "outputs": [],
   "source": [
    "# point cloud making convex hull\n",
    "hull, _ = axis_bounded_cloud.compute_convex_hull()  #cld -> is the point cloud\n",
    "hull_ls = o3d.geometry.LineSet.create_from_triangle_mesh(hull)\n",
    "hull_ls.paint_uniform_color((0, 0 , 1))\n",
    "# visualizer(hull_ls)\n",
    "o3d.visualization.draw_geometries([hull])"
   ]
  },
  {
   "cell_type": "code",
   "execution_count": 109,
   "metadata": {},
   "outputs": [
    {
     "name": "stdout",
     "output_type": "stream",
     "text": [
      "0.0004007525330074498\n"
     ]
    }
   ],
   "source": [
    "hull.remove_degenerate_triangles()\n",
    "hull.compute_vertex_normals()\n",
    "hull.orient_triangles()\n",
    "o3d.visualization.draw_geometries([axis_bounded_cloud, hull])\n",
    "volume = hull.get_volume()\n",
    "print(volume) #0.000596328157324427, 0.0001436078385052907, 0.00014281091173404275"
   ]
  },
  {
   "cell_type": "code",
   "execution_count": null,
   "metadata": {},
   "outputs": [],
   "source": [
    "# 401 cc -> 4.19 cc (actual) 1cm radius sphere"
   ]
  },
  {
   "cell_type": "code",
   "execution_count": 212,
   "metadata": {},
   "outputs": [
    {
     "data": {
      "text/plain": [
       "0.000596328157324427"
      ]
     },
     "execution_count": 212,
     "metadata": {},
     "output_type": "execute_result"
    }
   ],
   "source": [
    "volume #in m^3??\n",
    "# CM^3 -> 142.81091173404274741"
   ]
  },
  {
   "cell_type": "code",
   "execution_count": 202,
   "metadata": {},
   "outputs": [],
   "source": [
    "# whole plant\n",
    "hull_new, ls_new = pcd.compute_convex_hull()\n",
    "hull_new.remove_degenerate_triangles()\n",
    "hull_new.compute_vertex_normals()\n",
    "\n",
    "o3d.visualization.draw_geometries([pcd, hull_new])\n",
    "volume = hull_new.get_volume()"
   ]
  },
  {
   "cell_type": "code",
   "execution_count": 203,
   "metadata": {},
   "outputs": [
    {
     "data": {
      "text/plain": [
       "4.158153960855363"
      ]
     },
     "execution_count": 203,
     "metadata": {},
     "output_type": "execute_result"
    }
   ],
   "source": [
    "volume #whole plant - 4.158153960855363"
   ]
  },
  {
   "cell_type": "code",
   "execution_count": 214,
   "metadata": {},
   "outputs": [
    {
     "name": "stdout",
     "output_type": "stream",
     "text": [
      "5.844015941779384e-10\n"
     ]
    }
   ],
   "source": [
    "# d = m/v\n",
    "density = 980 \t #in g/m^3 #1146.43 #in kg/m^3\n",
    "v_new = 5.963281573244269439e-13\n",
    "mass = density*v_new\n",
    "print(mass)"
   ]
  }
 ],
 "metadata": {
  "kernelspec": {
   "display_name": "gtri",
   "language": "python",
   "name": "python3"
  },
  "language_info": {
   "codemirror_mode": {
    "name": "ipython",
    "version": 3
   },
   "file_extension": ".py",
   "mimetype": "text/x-python",
   "name": "python",
   "nbconvert_exporter": "python",
   "pygments_lexer": "ipython3",
   "version": "3.12.9"
  }
 },
 "nbformat": 4,
 "nbformat_minor": 2
}
